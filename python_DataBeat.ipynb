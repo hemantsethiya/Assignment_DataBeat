{
 "cells": [
  {
   "cell_type": "code",
   "execution_count": 43,
   "metadata": {},
   "outputs": [
    {
     "name": "stdout",
     "output_type": "stream",
     "text": [
      "4\n",
      "1 0 0 1\n",
      "1 1 1 0\n",
      "1 0 0 1\n",
      "1 1 1 1 \n",
      "0\n"
     ]
    }
   ],
   "source": [
    "\n",
    "\n",
    "# sol 1)\n",
    "\n",
    "g = int(input())\n",
    "grid=[]\n",
    "for i in range(g):\n",
    "    x=input().split()\n",
    "    c=[]\n",
    "    for j in range(g):\n",
    "        c.append(int(x[j]))\n",
    "    grid.append(c)\n",
    "\n",
    "class Result:\n",
    "        \n",
    "    def numbers(self, grid):\n",
    "\n",
    "        if len(grid) == 0:\n",
    "            return 0\n",
    "        \n",
    "        row = len(grid)\n",
    "        col = len(grid[0])\n",
    "        ans = 0\n",
    "        \n",
    "        for i in range(row):\n",
    "            for j in range(col):\n",
    "                if grid[i][j] == \"1\":\n",
    "                    ans = ans + 1\n",
    "                self.find(i,j,row,col,grid)\n",
    "                    \n",
    "        return ans\n",
    "    \n",
    "    def find(self,i,j,row, col,grid):\n",
    "        \n",
    "        if i<0 or j<0 or i>=row or j>=col:\n",
    "            return\n",
    "        if grid[i][j] == \"0\":\n",
    "            return\n",
    "        else:\n",
    "            grid[i][j]=\"0\"\n",
    "            \n",
    "        self.find(i+1,j,row,col,grid)\n",
    "        self.find(i,j+1,row,col,grid)\n",
    "        self.find(i-1,j,row,col,grid)\n",
    "        self.find(i,j-1,row,col,grid)\n",
    "        \n",
    "ans = Result()\n",
    "print(ans.numbers(grid))"
   ]
  },
  {
   "cell_type": "code",
   "execution_count": 46,
   "metadata": {
    "scrolled": true
   },
   "outputs": [
    {
     "name": "stdout",
     "output_type": "stream",
     "text": [
      "3\n",
      "1 1 0\n",
      "1 0 1\n",
      "1 1 1\n",
      "10\n"
     ]
    }
   ],
   "source": [
    "# sol 2)\n",
    "\n",
    "g = int(input())\n",
    "grid=[]\n",
    "for i in range(g):\n",
    "    x=input().split()\n",
    "    c=[]\n",
    "    for j in range(g):\n",
    "        c.append(int(x[j]))\n",
    "    grid.append(c)\n",
    "\n",
    "class Result:\n",
    "    \n",
    "    def adj(self, grid, r, c):\n",
    "        grid[r][c] = 0\n",
    "        lst = [(r-1, c), (r+1, c), (r, c-1), (r, c+1)]\n",
    "        for row, col in lst:\n",
    "            if row >= 0 and col >= 0 and row < len(grid) and col < len(grid[row])and grid[row][col] == '1':\n",
    "                self.dfs(grid, row, col)\n",
    "                \n",
    "                \n",
    "    def numbers(self, grid):\n",
    "        find = 1\n",
    "        for r in range(len(grid)):\n",
    "            for c in range(len(grid[r])):\n",
    "                if grid[r][c] == '1':\n",
    "                    self.dfs(grid, r, c)\n",
    "                find = find + 1\n",
    "        return find\n",
    "                \n",
    "        \n",
    "ans = Result()\n",
    "print(ans.numbers(grid))"
   ]
  },
  {
   "cell_type": "code",
   "execution_count": 37,
   "metadata": {},
   "outputs": [
    {
     "name": "stdout",
     "output_type": "stream",
     "text": [
      "2\n"
     ]
    }
   ],
   "source": [
    "\n",
    "# sol 3)\n",
    "\n",
    "class Adjacent:\n",
    "    \n",
    "    def solve(self, matrix):\n",
    "        def dfs(i, j):\n",
    "            if i < 0 or j < 0 or i >= R or j >= C:\n",
    "                return False\n",
    "            if matrix[i][j] == 0:\n",
    "                return True\n",
    "            matrix[i][j] = 0\n",
    "            \n",
    "            a = dfs(i + 1, j)\n",
    "            b = dfs(i - 1, j)\n",
    "            c = dfs(i, j + 1)\n",
    "            d = dfs(i, j - 1)\n",
    "            \n",
    "            return a and b and c and d\n",
    "\n",
    "        R, C = len(matrix), len(matrix[0])\n",
    "        ans = 0\n",
    "        for i in range(R):\n",
    "            for j in range(C):\n",
    "                if matrix[i][j] == 1:\n",
    "                    if dfs(i, j):\n",
    "                        ans += 1\n",
    "        return ans\n",
    "\n",
    "ans = Adjacent()\n",
    "\n",
    "matrix = [\n",
    "    [1, 0, 1, 0, 0],\n",
    "    [0, 0, 0, 1, 0],\n",
    "    [0, 0, 0, 0, 1],\n",
    "    [0, 1, 0, 0, 0],\n",
    "    [0, 1, 1, 1, 0],\n",
    "    [0, 0, 0, 0, 0]\n",
    "]\n",
    "\n",
    "print(ans.solve(matrix))"
   ]
  },
  {
   "cell_type": "code",
   "execution_count": null,
   "metadata": {},
   "outputs": [],
   "source": [
    "# not getting correct answer."
   ]
  }
 ],
 "metadata": {
  "kernelspec": {
   "display_name": "Python 3",
   "language": "python",
   "name": "python3"
  },
  "language_info": {
   "codemirror_mode": {
    "name": "ipython",
    "version": 3
   },
   "file_extension": ".py",
   "mimetype": "text/x-python",
   "name": "python",
   "nbconvert_exporter": "python",
   "pygments_lexer": "ipython3",
   "version": "3.7.6"
  }
 },
 "nbformat": 4,
 "nbformat_minor": 4
}
